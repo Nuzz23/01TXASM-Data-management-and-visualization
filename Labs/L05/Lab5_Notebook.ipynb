{
  "nbformat": 4,
  "nbformat_minor": 0,
  "metadata": {
    "colab": {
      "provenance": []
    },
    "kernelspec": {
      "name": "python3",
      "display_name": "Python 3"
    },
    "language_info": {
      "name": "python"
    }
  },
  "cells": [
    {
      "cell_type": "markdown",
      "source": [
        "# Lab 5: Create and query a MongoDB collection\n",
        "\n",
        "\n",
        "#### Import libraries"
      ],
      "metadata": {
        "id": "vu5l6bp-hn6R"
      }
    },
    {
      "cell_type": "code",
      "source": [
        "%%capture\n",
        "%pip install pymongo"
      ],
      "metadata": {
        "id": "7578uSni5lhh"
      },
      "execution_count": null,
      "outputs": []
    },
    {
      "cell_type": "code",
      "source": [
        "from pymongo.mongo_client import MongoClient\n",
        "from pymongo.server_api import ServerApi"
      ],
      "metadata": {
        "id": "yAGHEhkbgRmM"
      },
      "execution_count": null,
      "outputs": []
    },
    {
      "cell_type": "markdown",
      "source": [
        "#### 1. PyMongo Configuration and Database Connection"
      ],
      "metadata": {
        "id": "NiiZeHMYrBRx"
      }
    },
    {
      "cell_type": "markdown",
      "source": [
        "In this cell, we are connecting to a MongoDB database hosted on MongoDB Atlas.\n",
        "\n",
        "1. URI Setup:\n",
        "\n",
        "- The uri variable holds the connection string, which includes the username and password required to connect to the MongoDB cluster.\n",
        "\n",
        "2.\n",
        "Creating a Client:\n",
        "\n",
        "- `client = MongoClient(uri, server_api=ServerApi('1'), tlsAllowInvalidCertificates=True)`: This line initializes a new client using `MongoClient`, which establishes a connection to the MongoDB server.\n",
        "\n",
        "- The parameter `server_api=ServerApi('1')` sets the API version for the connection, and `tlsAllowInvalidCertificates=True` allows the client to connect even if the TLS certificate isn't valid (useful for testing environments).\n",
        "\n",
        "\n",
        "3. Testing the Connection:\n",
        "\n",
        "- We use a `try` block to send a ping command (`client.admin.command('ping')`) to verify the connection. If successful, it prints a success message.\n",
        "- If the connection fails, it catches the exception and displays the error message, helping diagnose connection issues."
      ],
      "metadata": {
        "id": "N_T3QBUbhyxB"
      }
    },
    {
      "cell_type": "code",
      "source": [
        "uri = \"<ATLAS_STRING>\"\n",
        "\n",
        "# Create a new client and connect to the server\n",
        "client = MongoClient(uri, server_api=ServerApi('1'),\n",
        "                     tlsAllowInvalidCertificates=True)\n",
        "# Send a ping to confirm a successful connection\n",
        "\n",
        "try:\n",
        "    client.admin.command('ping')\n",
        "    print(\"Pinged your deployment. You successfully connected to MongoDB!\")\n",
        "except Exception as e:\n",
        "    raise e"
      ],
      "metadata": {
        "id": "srJqUWH1gYEy"
      },
      "execution_count": null,
      "outputs": []
    },
    {
      "cell_type": "markdown",
      "source": [
        "Show the list of databases"
      ],
      "metadata": {
        "id": "Ala8lsU1nDrq"
      }
    },
    {
      "cell_type": "code",
      "source": [
        "client.list_database_names()"
      ],
      "metadata": {
        "id": "WL6R3lTMZcHe"
      },
      "execution_count": null,
      "outputs": []
    },
    {
      "cell_type": "markdown",
      "source": [
        "Upload `restaurants_collection.txt` file"
      ],
      "metadata": {
        "id": "hQKagfydsnAW"
      }
    },
    {
      "cell_type": "code",
      "source": [
        "db = client['lab5']"
      ],
      "metadata": {
        "id": "821sX_SXsecv"
      },
      "execution_count": null,
      "outputs": []
    },
    {
      "cell_type": "code",
      "source": [
        "db.create_collection('restaurants')"
      ],
      "metadata": {
        "id": "vnFHQtGPswIR"
      },
      "execution_count": null,
      "outputs": []
    },
    {
      "cell_type": "code",
      "source": [
        "restaurants = db['restaurants']"
      ],
      "metadata": {
        "id": "DQYFV2Mns8Zu"
      },
      "execution_count": null,
      "outputs": []
    },
    {
      "cell_type": "code",
      "source": [
        "from bson.json_util import loads\n",
        "import gdown\n",
        "\n",
        "url = 'https://drive.google.com/uc?id=1WWd-vk2gyvy4gPG40MtjENPOYXbpIKey'\n",
        "output = 'restaurants_collection.txt'\n",
        "gdown.download(url, output, quiet=False)\n",
        "\n",
        "# Read records (json)\n",
        "with open(output) as f:\n",
        "    data = loads(f.read())\n",
        "\n",
        "restaurants.delete_many({})\n",
        "# Add records to the collection\n",
        "restaurants.insert_many(data);\n"
      ],
      "metadata": {
        "id": "GVkmvCCAsxW7"
      },
      "execution_count": null,
      "outputs": []
    },
    {
      "cell_type": "markdown",
      "source": [
        "## Exercises"
      ],
      "metadata": {
        "id": "UGB6rNz0tDyO"
      }
    },
    {
      "cell_type": "markdown",
      "source": [
        "### 1. Find all restaurants whose cost is medium. Show the result is the pretty format."
      ],
      "metadata": {
        "id": "cjYOyFAgtFxP"
      }
    },
    {
      "cell_type": "code",
      "source": [
        "from pprint import pprint\n",
        "results = restaurants.find(...) #WRITE YOUR QUERY HERE\n",
        "for result in results:\n",
        "  pprint(result)"
      ],
      "metadata": {
        "id": "X3_qf3VOs6sT"
      },
      "execution_count": null,
      "outputs": []
    },
    {
      "cell_type": "markdown",
      "source": [
        "### 2. Select the name and the number of seats (maxPeople) available of all the restaurants whose review is bigger than 4 and cost is medium or low"
      ],
      "metadata": {
        "id": "BVKcg65DtJhf"
      }
    },
    {
      "cell_type": "code",
      "source": [
        "results = db.restaurants.find(...) #WRITE YOUR QUERY HERE\n",
        "for result in results:\n",
        "  pprint(result)"
      ],
      "metadata": {
        "id": "cRl-zj4VtMYM"
      },
      "execution_count": null,
      "outputs": []
    },
    {
      "cell_type": "markdown",
      "source": [
        "### 3. Select the name, the phone of the restaurants that can contain more than 5 people and:\n",
        "\n",
        "  #### a. whose tag contains \"italian\" or \"japanese\" and cost is medium or high OR\n",
        "  #### b. whose tag does not contain neither \"italian\" nor \"japanese\", and whose review is higher than 4.5\n",
        "\n",
        "#### Remove from the output the field _id."
      ],
      "metadata": {
        "id": "cICsIaWxtM25"
      }
    },
    {
      "cell_type": "code",
      "source": [
        "results = db.restaurants.find(...) #WRITE YOUR QUERY HERE\n",
        "for result in results:\n",
        "  pprint(result)"
      ],
      "metadata": {
        "id": "22IUNlSJtaII"
      },
      "execution_count": null,
      "outputs": []
    },
    {
      "cell_type": "markdown",
      "source": [
        "### 4. Calculate the average review of all restaurants"
      ],
      "metadata": {
        "id": "-JB2QSQnteaR"
      }
    },
    {
      "cell_type": "code",
      "source": [
        "results = db.restaurants.aggregate(...) #WRITE YOUR PIPELINE HERE\n",
        "for result in results:\n",
        "  print(result['review_avg'])"
      ],
      "metadata": {
        "id": "fPk2xPROthEm"
      },
      "execution_count": null,
      "outputs": []
    },
    {
      "cell_type": "markdown",
      "source": [
        "### 5. Count the number of restaurants whose review is higher than 4.5 and can contain more than 5 people"
      ],
      "metadata": {
        "id": "IyGIHL_ithuu"
      }
    },
    {
      "cell_type": "code",
      "source": [
        "results = db.restaurants.aggregate(...) #WRITE YOUR PIPELINE HERE\n",
        "\n",
        "for result in results:\n",
        "  print(result['count'])"
      ],
      "metadata": {
        "id": "jiPES2rWtkmq"
      },
      "execution_count": null,
      "outputs": []
    },
    {
      "cell_type": "markdown",
      "source": [
        "### 6. Find the restaurant in the collection which is nearest to the point [45.0644, 7.6598]. Hint: remember to create the geospatial index."
      ],
      "metadata": {
        "id": "YZQtQNmxtk-y"
      }
    },
    {
      "cell_type": "code",
      "source": [
        "db.restaurants.create_index(...) (...) #WRITE YOUR CODE HERE"
      ],
      "metadata": {
        "id": "v32HNFEfwAE4"
      },
      "execution_count": null,
      "outputs": []
    },
    {
      "cell_type": "code",
      "source": [
        "result = db.restaurants.find_one(...) #WRITE YOUR QUERY HERE\n",
        "\n",
        "# find_one returns one single document\n",
        "pprint(result)"
      ],
      "metadata": {
        "id": "fQ67LvX8toiA"
      },
      "execution_count": null,
      "outputs": []
    },
    {
      "cell_type": "markdown",
      "source": [
        "### 7. Find how many restaurants in the collection are within 500 meters from the point [45.0623, 7.6627]"
      ],
      "metadata": {
        "id": "W9dGq9IAto6_"
      }
    },
    {
      "cell_type": "code",
      "source": [
        "results = db.restaurants.find(...) #WRITE YOUR QUERY HERE\n",
        "\n",
        "pprint(len(list(results)))"
      ],
      "metadata": {
        "id": "OC8q6vAEtr8s"
      },
      "execution_count": null,
      "outputs": []
    },
    {
      "cell_type": "markdown",
      "source": [
        "### 8. Add the tag “pizza” to all the restaurants that contain the tag “italian”. If the tag “pizza” is already present, you should not insert it"
      ],
      "metadata": {
        "id": "daR5SqXVtsWN"
      }
    },
    {
      "cell_type": "code",
      "source": [
        "db.restaurants.update_many(...) #WRITE YOUR CODE HERE"
      ],
      "metadata": {
        "id": "cXGyn6axtvp9"
      },
      "execution_count": null,
      "outputs": []
    },
    {
      "cell_type": "markdown",
      "source": [
        "### 9. Decrease the review score of 0.2 for all the restaurants with the tag ‘fastfood’"
      ],
      "metadata": {
        "id": "TTUa7m5atxlX"
      }
    },
    {
      "cell_type": "code",
      "source": [
        "db.restaurants.update_many(...) #WRITE YOUR CODE HERE"
      ],
      "metadata": {
        "id": "eB25Mbf0tzDQ"
      },
      "execution_count": null,
      "outputs": []
    },
    {
      "cell_type": "markdown",
      "source": [
        "### 10. For only the restaurants with a review higher than 3, find the tags which appear more than 1 time. For each tag, show how many documents include it."
      ],
      "metadata": {
        "id": "RTy_Sq1_tz4q"
      }
    },
    {
      "cell_type": "code",
      "source": [
        "results = db.restaurants.aggregate(...) #WRITE YOUR PIPELINE HERE\n",
        "\n",
        "for result in results:\n",
        "  pprint(result)"
      ],
      "metadata": {
        "id": "_3IODtIHt18f"
      },
      "execution_count": null,
      "outputs": []
    },
    {
      "cell_type": "markdown",
      "source": [
        "### 11. For each cost category, compute the minimum review rate, the maximum review rate, the average review rate and the number of restaurants. Sort the result in descending order according to the number of restaurants in each cost category."
      ],
      "metadata": {
        "id": "Ykzeshqyt3aA"
      }
    },
    {
      "cell_type": "code",
      "source": [
        "results = db.restaurants.aggregate(...) #WRITE YOUR PIPELINE HERE\n",
        "\n",
        "for result in results:\n",
        "  pprint(result)"
      ],
      "metadata": {
        "id": "7MWMGk1Ft6JM"
      },
      "execution_count": null,
      "outputs": []
    },
    {
      "cell_type": "markdown",
      "source": [
        "### 12. Find the median value of maxPeople attribute"
      ],
      "metadata": {
        "id": "rzdOPBhLt7xT"
      }
    },
    {
      "cell_type": "code",
      "source": [
        "results = db.restaurants.aggregate(...) #WRITE YOUR PIPELINE HERE\n",
        "\n",
        "for result in results:\n",
        "  pprint(result)"
      ],
      "metadata": {
        "id": "tegoLncOt-Lq"
      },
      "execution_count": null,
      "outputs": []
    }
  ]
}